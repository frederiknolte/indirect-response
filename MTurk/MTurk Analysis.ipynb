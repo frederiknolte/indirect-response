{
 "cells": [
  {
   "cell_type": "code",
   "execution_count": 948,
   "id": "a72d442c",
   "metadata": {},
   "outputs": [],
   "source": [
    "import argparse\n",
    "import pandas\n",
    "import pandas as pd\n",
    "import numpy as np\n",
    "from scipy.stats import pearsonr, linregress\n",
    "import csv\n",
    "import seaborn as sns\n",
    "from matplotlib import pyplot as plt\n",
    "from krippendorff_alpha import krippendorff_alpha, nominal_metric, interval_metric"
   ]
  },
  {
   "cell_type": "markdown",
   "id": "fcc4c5ff",
   "metadata": {},
   "source": [
    "# Load data"
   ]
  },
  {
   "cell_type": "code",
   "execution_count": 949,
   "id": "84ee866b",
   "metadata": {},
   "outputs": [],
   "source": [
    "result_csv = \"final_results.csv\"\n",
    "las_csv = \"las_13_unmatched_simulator_results/LAS_nli_relaxed_unmatched13_test_data_circa_NLI_test.csv\""
   ]
  },
  {
   "cell_type": "markdown",
   "id": "cd02e18c",
   "metadata": {},
   "source": [
    "Load inputs:"
   ]
  },
  {
   "cell_type": "code",
   "execution_count": 950,
   "id": "89274013",
   "metadata": {},
   "outputs": [],
   "source": [
    "inputs1 = pd.read_csv(\"originalmturk_explain_unmatched.csv\", dtype=object)\n",
    "inputs2 = pd.read_csv(\"originalmturk_explain_unmatched2.csv\", dtype=object)\n",
    "inputs = pd.concat([inputs1, inputs2])"
   ]
  },
  {
   "cell_type": "markdown",
   "id": "fbc58cc5",
   "metadata": {},
   "source": [
    "Load results:"
   ]
  },
  {
   "cell_type": "code",
   "execution_count": 951,
   "id": "8d5f2637",
   "metadata": {},
   "outputs": [],
   "source": [
    "results = pd.read_csv(result_csv, sep=',', dtype=object, escapechar='\\\\', engine='python',\n",
    "                      usecols=['WorkerId',\n",
    "                               'Input.context',\n",
    "                               'Input.question',\n",
    "                               'Input.answer',\n",
    "                               'Input.explanation',\n",
    "                               'Input.interpretation',\n",
    "                               'Answer.explanation-quality.label',\n",
    "                               'WorkTimeInSeconds']\n",
    "                      )\n",
    "results.columns = ['WorkerId', 'WorkTimeInSeconds', 'context', 'question',\n",
    "                   'answer', 'explanation', 'shown_target',\n",
    "                   'annotation']"
   ]
  },
  {
   "cell_type": "markdown",
   "id": "324cbe62",
   "metadata": {},
   "source": [
    "Load LAS data:"
   ]
  },
  {
   "cell_type": "code",
   "execution_count": 952,
   "id": "8852075b",
   "metadata": {},
   "outputs": [],
   "source": [
    "las = pd.read_csv(las_csv, \n",
    "            dtype=object, escapechar='\\\\', index_col=0\n",
    "                 )\n",
    "las.columns = ['context', 'hypothesis', 'answer', \n",
    "               'target', 'prediction', 'explanation', \n",
    "               'XE_pred','XE_prob','X_pred',\n",
    "               'X_prob','E_pred','E_prob',\n",
    "               'leaked']\n",
    "las.drop(['context'], axis=1, inplace=True)\n",
    "las.drop(['leaked'], axis=1, inplace=True)"
   ]
  },
  {
   "cell_type": "markdown",
   "id": "42ade2ab",
   "metadata": {},
   "source": [
    "## Clean columns"
   ]
  },
  {
   "cell_type": "markdown",
   "id": "bc52c0f6",
   "metadata": {},
   "source": [
    "Make columns numerical:"
   ]
  },
  {
   "cell_type": "code",
   "execution_count": 953,
   "id": "35530a2f",
   "metadata": {},
   "outputs": [],
   "source": [
    "results['annotation'].replace('5 - very good', 5, inplace=True)\n",
    "results['annotation'].replace('1 - very poor', 1, inplace=True)\n",
    "results.annotation = results.annotation.astype(int)\n",
    "results.WorkTimeInSeconds = results.WorkTimeInSeconds.astype(int)\n",
    "\n",
    "las['target'] = las['target'].astype(int)\n",
    "las['prediction'] = las['prediction'].astype(int)\n",
    "las['XE_pred'] = las['XE_pred'].astype(int)\n",
    "las['E_pred'] = las['E_pred'].astype(int)\n",
    "las['X_pred'] = las['X_pred'].astype(int)\n",
    "las['target'] = las.target.map({0:'Middle', \n",
    "                                1:'Yes', \n",
    "                                2:'No', \n",
    "                                3:'none'\n",
    "                               })\n",
    "las['prediction'] = las.prediction.map({0:'Middle', \n",
    "                                        1:'Yes', \n",
    "                                        2:'No', \n",
    "                                        3:'none'\n",
    "                                       })\n",
    "las['XE_pred'] = las.XE_pred.map({0:'Middle', \n",
    "                                  1:'Yes', \n",
    "                                  2:'No', \n",
    "                                  3:'none'\n",
    "                                 })\n",
    "las['E_pred'] = las.E_pred.map({0:'Middle', \n",
    "                                1:'Yes', \n",
    "                                2:'No', \n",
    "                                3:'none'\n",
    "                               })\n",
    "las['X_pred'] = las.X_pred.map({0:'Middle', \n",
    "                                1:'Yes', \n",
    "                                2:'No', \n",
    "                                3:'none'\n",
    "                               })"
   ]
  },
  {
   "cell_type": "markdown",
   "id": "18c29522",
   "metadata": {},
   "source": [
    "Match dataframes:"
   ]
  },
  {
   "cell_type": "code",
   "execution_count": 954,
   "id": "67fa0584",
   "metadata": {},
   "outputs": [],
   "source": [
    "data = inputs.merge(\n",
    "        results,\n",
    "        on=[\"context\", \"question\", \"answer\", \"explanation\"],\n",
    "        how=\"right\",\n",
    ")"
   ]
  },
  {
   "cell_type": "markdown",
   "id": "9df3b697",
   "metadata": {},
   "source": [
    "Add additional information:"
   ]
  },
  {
   "cell_type": "code",
   "execution_count": 955,
   "id": "b65a53e5",
   "metadata": {},
   "outputs": [],
   "source": [
    "data['corr_target_shown'] = data['target'] == data['shown_target']\n",
    "data = data.replace('In the middle, neither yes nor no', 'Middle')"
   ]
  },
  {
   "cell_type": "markdown",
   "id": "5fd39c8d",
   "metadata": {},
   "source": [
    "Drop irrelevant columns and add indicator for correct prediction:"
   ]
  },
  {
   "cell_type": "code",
   "execution_count": 956,
   "id": "a602a7a1",
   "metadata": {},
   "outputs": [],
   "source": [
    "data.drop(['exclude', \n",
    "           'goldstandard1', \n",
    "           'correct_pred', \n",
    "           'interpretation'], axis=1, inplace=True)\n",
    "data['correct_pred'] = data['target'] == data['prediction']"
   ]
  },
  {
   "cell_type": "markdown",
   "id": "d738bd08",
   "metadata": {},
   "source": [
    "Merge with LAS data:"
   ]
  },
  {
   "cell_type": "code",
   "execution_count": 957,
   "id": "37d5c317",
   "metadata": {},
   "outputs": [],
   "source": [
    "data = data.merge(\n",
    "        las,\n",
    "        on=[\"hypothesis\", \"target\", \"prediction\", \"explanation\", \"answer\"],\n",
    "        how=\"inner\",\n",
    ")"
   ]
  },
  {
   "cell_type": "markdown",
   "id": "718e7b98",
   "metadata": {},
   "source": [
    "Add LAS-specific information:"
   ]
  },
  {
   "cell_type": "code",
   "execution_count": 958,
   "id": "52f11a63",
   "metadata": {},
   "outputs": [],
   "source": [
    "data['XE_correct'] = data['XE_pred'] == data['prediction']\n",
    "data['E_correct'] = data['E_pred'] == data['prediction']\n",
    "data['X_correct'] = data['X_pred'] == data['prediction']\n",
    "data['LAS_score'] = data['XE_correct'].astype(int) - data['X_correct'].astype(int)"
   ]
  },
  {
   "cell_type": "markdown",
   "id": "a166a179",
   "metadata": {},
   "source": [
    "Total number of annotations (not yet checked for 3 annotations per item):"
   ]
  },
  {
   "cell_type": "code",
   "execution_count": 959,
   "id": "56e10654",
   "metadata": {},
   "outputs": [
    {
     "data": {
      "text/plain": [
       "359"
      ]
     },
     "execution_count": 959,
     "metadata": {},
     "output_type": "execute_result"
    }
   ],
   "source": [
    "len(data)"
   ]
  },
  {
   "cell_type": "markdown",
   "id": "48828ca3",
   "metadata": {},
   "source": [
    "Remove items with less than 3 annotations:"
   ]
  },
  {
   "cell_type": "code",
   "execution_count": 960,
   "id": "164f4772",
   "metadata": {},
   "outputs": [],
   "source": [
    "num_annotations = data[['id', 'corr_target_shown', 'WorkerId']].groupby(['id', 'corr_target_shown']).agg({'WorkerId': ['count']})\n",
    "num_annotations.columns = ['num_annotations']\n",
    "data = data.merge(num_annotations, how='left', on=['id', 'corr_target_shown'])\n",
    "data = data[data['num_annotations'] == 3]"
   ]
  },
  {
   "cell_type": "markdown",
   "id": "5c0b6d8c",
   "metadata": {},
   "source": [
    "Remove wrongly formatted sample identified during the survey:"
   ]
  },
  {
   "cell_type": "code",
   "execution_count": 961,
   "id": "c07fffe7",
   "metadata": {},
   "outputs": [],
   "source": [
    "data = data[data['id'] != '17777']"
   ]
  },
  {
   "cell_type": "markdown",
   "id": "f375d4ba",
   "metadata": {},
   "source": [
    "# Data Statistics"
   ]
  },
  {
   "cell_type": "code",
   "execution_count": 962,
   "id": "5a5b0a6d",
   "metadata": {},
   "outputs": [
    {
     "name": "stdout",
     "output_type": "stream",
     "text": [
      "Unique samples: 71\n"
     ]
    }
   ],
   "source": [
    "print(f\"Unique samples: {len(pd.unique(data['id']))}\")"
   ]
  },
  {
   "cell_type": "markdown",
   "id": "04952452",
   "metadata": {},
   "source": [
    "Number of remaining annotations:"
   ]
  },
  {
   "cell_type": "code",
   "execution_count": 963,
   "id": "db017571",
   "metadata": {},
   "outputs": [
    {
     "data": {
      "text/plain": [
       "300"
      ]
     },
     "execution_count": 963,
     "metadata": {},
     "output_type": "execute_result"
    }
   ],
   "source": [
    "len(data)"
   ]
  },
  {
   "cell_type": "code",
   "execution_count": 964,
   "id": "10d874e4",
   "metadata": {},
   "outputs": [
    {
     "data": {
      "text/plain": [
       "Index(['hypothesis', 'answer', 'target', 'prediction', 'explanation', 'leaked',\n",
       "       'id', 'context', 'question', 'judgements', 'WorkerId',\n",
       "       'WorkTimeInSeconds', 'shown_target', 'annotation', 'corr_target_shown',\n",
       "       'correct_pred', 'XE_pred', 'XE_prob', 'X_pred', 'X_prob', 'E_pred',\n",
       "       'E_prob', 'XE_correct', 'E_correct', 'X_correct', 'LAS_score',\n",
       "       'num_annotations'],\n",
       "      dtype='object')"
      ]
     },
     "execution_count": 964,
     "metadata": {},
     "output_type": "execute_result"
    }
   ],
   "source": [
    "data.columns"
   ]
  },
  {
   "cell_type": "markdown",
   "id": "f15340c9",
   "metadata": {},
   "source": [
    "# Analysis"
   ]
  },
  {
   "cell_type": "markdown",
   "id": "1e0e8b43",
   "metadata": {},
   "source": [
    "## Worker normalization"
   ]
  },
  {
   "cell_type": "markdown",
   "id": "a2aafcd9",
   "metadata": {},
   "source": [
    "The following process normalizes the annotations using the average intra-worker mean \n",
    "and the average intra-worker standard deviation. This process ensures that systematic \n",
    "differences between workers (e.g. one worker tends to rate lower vs. the other tends \n",
    "to rate higher) are removed."
   ]
  },
  {
   "cell_type": "markdown",
   "id": "0e390940",
   "metadata": {},
   "source": [
    "Calculate average intra-worker mean and average intra-worker standard deviation:"
   ]
  },
  {
   "cell_type": "code",
   "execution_count": 965,
   "id": "6f51ea85",
   "metadata": {},
   "outputs": [],
   "source": [
    "annotation_mean = data.groupby(['WorkerId']).agg({'annotation': ['mean']}).mean().to_numpy()[0]\n",
    "annotation_std = data.groupby(['WorkerId']).agg({'annotation': ['std']}).mean().to_numpy()[0]"
   ]
  },
  {
   "cell_type": "markdown",
   "id": "5ab6a556",
   "metadata": {},
   "source": [
    "Center each annotation with the difference of the intra-worker mean of the worker who annotated it to the average intra-worker mean."
   ]
  },
  {
   "cell_type": "code",
   "execution_count": 966,
   "id": "8c540605",
   "metadata": {},
   "outputs": [],
   "source": [
    "agg_data = data.groupby(['WorkerId']).agg({'annotation': ['mean']})\n",
    "agg_data.columns = ['worker_mean']\n",
    "agg_data['mean_diff'] = annotation_mean - agg_data['worker_mean']\n",
    "agg_data.drop(['worker_mean'], axis=1, inplace=True)\n",
    "data = data.merge(agg_data, how='left', on=['WorkerId'])\n",
    "data['centered_annotation'] = data['annotation'] + data['mean_diff']\n",
    "data.drop(['mean_diff'], axis=1, inplace=True)"
   ]
  },
  {
   "cell_type": "markdown",
   "id": "cd1d5589",
   "metadata": {},
   "source": [
    "Divide each annotation by the intra-worker standard deviation of the worker who annotated it and multiply by the average intra-worker standard deviation to have all workers have the same standard deviation when annotating:"
   ]
  },
  {
   "cell_type": "code",
   "execution_count": 967,
   "id": "99eb40fa",
   "metadata": {},
   "outputs": [],
   "source": [
    "agg_data = data.groupby(['WorkerId']).agg({'annotation': ['std']})\n",
    "agg_data.columns = ['worker_std']\n",
    "agg_data['std_ratio'] = annotation_std / agg_data['worker_std']\n",
    "agg_data.drop(['worker_std'], axis=1, inplace=True)\n",
    "data = data.merge(agg_data, how='left', on=['WorkerId'])\n",
    "data['normalized_annotation'] = data['centered_annotation'] * data['std_ratio']\n",
    "data.drop(['std_ratio'], axis=1, inplace=True)"
   ]
  },
  {
   "cell_type": "markdown",
   "id": "af1d612b",
   "metadata": {},
   "source": [
    "## Data Analysis"
   ]
  },
  {
   "cell_type": "markdown",
   "id": "69b2cb85",
   "metadata": {},
   "source": [
    "### First an aggregation of worker annotations by label leakage, whether the model made the correct prediction and whether or not the correct target was shown to the annotators:"
   ]
  },
  {
   "cell_type": "code",
   "execution_count": 968,
   "id": "2f2d2179",
   "metadata": {},
   "outputs": [
    {
     "data": {
      "text/html": [
       "<div>\n",
       "<style scoped>\n",
       "    .dataframe tbody tr th:only-of-type {\n",
       "        vertical-align: middle;\n",
       "    }\n",
       "\n",
       "    .dataframe tbody tr th {\n",
       "        vertical-align: top;\n",
       "    }\n",
       "\n",
       "    .dataframe thead tr th {\n",
       "        text-align: left;\n",
       "    }\n",
       "\n",
       "    .dataframe thead tr:last-of-type th {\n",
       "        text-align: right;\n",
       "    }\n",
       "</style>\n",
       "<table border=\"1\" class=\"dataframe\">\n",
       "  <thead>\n",
       "    <tr>\n",
       "      <th></th>\n",
       "      <th></th>\n",
       "      <th></th>\n",
       "      <th colspan=\"3\" halign=\"left\">annotation</th>\n",
       "      <th colspan=\"3\" halign=\"left\">normalized_annotation</th>\n",
       "    </tr>\n",
       "    <tr>\n",
       "      <th></th>\n",
       "      <th></th>\n",
       "      <th></th>\n",
       "      <th>mean</th>\n",
       "      <th>std</th>\n",
       "      <th>count</th>\n",
       "      <th>mean</th>\n",
       "      <th>std</th>\n",
       "      <th>count</th>\n",
       "    </tr>\n",
       "    <tr>\n",
       "      <th>leaked</th>\n",
       "      <th>correct_pred</th>\n",
       "      <th>corr_target_shown</th>\n",
       "      <th></th>\n",
       "      <th></th>\n",
       "      <th></th>\n",
       "      <th></th>\n",
       "      <th></th>\n",
       "      <th></th>\n",
       "    </tr>\n",
       "  </thead>\n",
       "  <tbody>\n",
       "    <tr>\n",
       "      <th rowspan=\"3\" valign=\"top\">No</th>\n",
       "      <th rowspan=\"2\" valign=\"top\">False</th>\n",
       "      <th>False</th>\n",
       "      <td>2.714286</td>\n",
       "      <td>1.612235</td>\n",
       "      <td>42</td>\n",
       "      <td>2.744472</td>\n",
       "      <td>1.575762</td>\n",
       "      <td>42</td>\n",
       "    </tr>\n",
       "    <tr>\n",
       "      <th>True</th>\n",
       "      <td>1.844444</td>\n",
       "      <td>1.223920</td>\n",
       "      <td>45</td>\n",
       "      <td>1.960049</td>\n",
       "      <td>1.076572</td>\n",
       "      <td>45</td>\n",
       "    </tr>\n",
       "    <tr>\n",
       "      <th>True</th>\n",
       "      <th>True</th>\n",
       "      <td>3.000000</td>\n",
       "      <td>1.609630</td>\n",
       "      <td>45</td>\n",
       "      <td>3.130498</td>\n",
       "      <td>1.442543</td>\n",
       "      <td>45</td>\n",
       "    </tr>\n",
       "    <tr>\n",
       "      <th rowspan=\"3\" valign=\"top\">Yes</th>\n",
       "      <th rowspan=\"2\" valign=\"top\">False</th>\n",
       "      <th>False</th>\n",
       "      <td>2.000000</td>\n",
       "      <td>1.279204</td>\n",
       "      <td>45</td>\n",
       "      <td>2.123430</td>\n",
       "      <td>1.204365</td>\n",
       "      <td>45</td>\n",
       "    </tr>\n",
       "    <tr>\n",
       "      <th>True</th>\n",
       "      <td>1.921569</td>\n",
       "      <td>1.230336</td>\n",
       "      <td>51</td>\n",
       "      <td>2.083960</td>\n",
       "      <td>1.216023</td>\n",
       "      <td>51</td>\n",
       "    </tr>\n",
       "    <tr>\n",
       "      <th>True</th>\n",
       "      <th>True</th>\n",
       "      <td>3.416667</td>\n",
       "      <td>1.431536</td>\n",
       "      <td>72</td>\n",
       "      <td>3.641573</td>\n",
       "      <td>1.462699</td>\n",
       "      <td>72</td>\n",
       "    </tr>\n",
       "  </tbody>\n",
       "</table>\n",
       "</div>"
      ],
      "text/plain": [
       "                                      annotation                  \\\n",
       "                                            mean       std count   \n",
       "leaked correct_pred corr_target_shown                              \n",
       "No     False        False               2.714286  1.612235    42   \n",
       "                    True                1.844444  1.223920    45   \n",
       "       True         True                3.000000  1.609630    45   \n",
       "Yes    False        False               2.000000  1.279204    45   \n",
       "                    True                1.921569  1.230336    51   \n",
       "       True         True                3.416667  1.431536    72   \n",
       "\n",
       "                                      normalized_annotation                  \n",
       "                                                       mean       std count  \n",
       "leaked correct_pred corr_target_shown                                        \n",
       "No     False        False                          2.744472  1.575762    42  \n",
       "                    True                           1.960049  1.076572    45  \n",
       "       True         True                           3.130498  1.442543    45  \n",
       "Yes    False        False                          2.123430  1.204365    45  \n",
       "                    True                           2.083960  1.216023    51  \n",
       "       True         True                           3.641573  1.462699    72  "
      ]
     },
     "execution_count": 968,
     "metadata": {},
     "output_type": "execute_result"
    }
   ],
   "source": [
    "data.groupby(['leaked', 'correct_pred', 'corr_target_shown']).agg({'annotation': ['mean', 'std', 'count'], 'normalized_annotation': ['mean', 'std', 'count']})"
   ]
  },
  {
   "cell_type": "markdown",
   "id": "20c4f2e4",
   "metadata": {},
   "source": [
    "#### Observations:\n",
    "We see that if the model produces the correct prediction (and the prediction is consequently shown), the rating of the qualtiy of rationales is the highest for both leaking and non-leaking rationales.\n",
    "\n",
    "Insterestingly, we see that showing the prediction instead of the true target for leaking rationales results only in a slight increase of rationale quality. This indicates that the model is not very faithful if the rationale is leaking. \n",
    "\n",
    "On the contrary, showing the prediction instead of the true target for non-leaking rationales results in a heavy increase of perceived rationale quality. This suggests that the model is highly faithful for non-leaking rationales.\n",
    "\n",
    "This *could* be explained by the following: We suppose that wrong model predictions are easily identifiable by human annotators. If rationales are leaking, they contain hints towards the predicted label as predicted by the model. If that prediction is wrong, this similarity to the label lets the rationale appear erroneous to the annotators. \n",
    "However, we asked annotators to judge the quality of rationales towards the shown label, no matter if that label is correct or incorrect.\n",
    "\n",
    "At the same time, if a rationale is marked as non-leaking, it does not contain strong hints towards the predicted label and thus if the predicted label does not coincide with the true label, the above effect is less severe, i.e. the rationale does not appear as bad as if it contained hints towards a wrong prediction.\n",
    "\n",
    "This suggests that annotators disregarded the annotation instructions and rated the prediction and rationale jointly instead of the rationale only. This makes general statements about faithfulness difficult and restricts us to be able to make statements about model faithfulness in the non-leaking case.\n",
    "\n",
    "To confirm, I asked the annotators that I know how they annotated the samples and they indeed confirmed having rated the prediction as well as the rationales. When showing them how the instructions actually stated the task, they admitted that this would change a lot of their annotations.\n",
    "\n",
    "Key takeaway from this table is that we would probably need to adapt the survey setup if we go for a more extensive human evaluation."
   ]
  },
  {
   "cell_type": "markdown",
   "id": "82b45d3c",
   "metadata": {},
   "source": [
    "### Now a simple aggregation of the worker annotations by label-leakage:"
   ]
  },
  {
   "cell_type": "code",
   "execution_count": 969,
   "id": "7f763a87",
   "metadata": {},
   "outputs": [
    {
     "data": {
      "text/html": [
       "<div>\n",
       "<style scoped>\n",
       "    .dataframe tbody tr th:only-of-type {\n",
       "        vertical-align: middle;\n",
       "    }\n",
       "\n",
       "    .dataframe tbody tr th {\n",
       "        vertical-align: top;\n",
       "    }\n",
       "\n",
       "    .dataframe thead tr th {\n",
       "        text-align: left;\n",
       "    }\n",
       "\n",
       "    .dataframe thead tr:last-of-type th {\n",
       "        text-align: right;\n",
       "    }\n",
       "</style>\n",
       "<table border=\"1\" class=\"dataframe\">\n",
       "  <thead>\n",
       "    <tr>\n",
       "      <th></th>\n",
       "      <th colspan=\"3\" halign=\"left\">annotation</th>\n",
       "      <th colspan=\"3\" halign=\"left\">normalized_annotation</th>\n",
       "    </tr>\n",
       "    <tr>\n",
       "      <th></th>\n",
       "      <th>mean</th>\n",
       "      <th>std</th>\n",
       "      <th>count</th>\n",
       "      <th>mean</th>\n",
       "      <th>std</th>\n",
       "      <th>count</th>\n",
       "    </tr>\n",
       "    <tr>\n",
       "      <th>leaked</th>\n",
       "      <th></th>\n",
       "      <th></th>\n",
       "      <th></th>\n",
       "      <th></th>\n",
       "      <th></th>\n",
       "      <th></th>\n",
       "    </tr>\n",
       "  </thead>\n",
       "  <tbody>\n",
       "    <tr>\n",
       "      <th>No</th>\n",
       "      <td>2.515152</td>\n",
       "      <td>1.560411</td>\n",
       "      <td>132</td>\n",
       "      <td>2.608655</td>\n",
       "      <td>1.452351</td>\n",
       "      <td>132</td>\n",
       "    </tr>\n",
       "    <tr>\n",
       "      <th>Yes</th>\n",
       "      <td>2.583333</td>\n",
       "      <td>1.510112</td>\n",
       "      <td>168</td>\n",
       "      <td>2.762081</td>\n",
       "      <td>1.522605</td>\n",
       "      <td>168</td>\n",
       "    </tr>\n",
       "  </tbody>\n",
       "</table>\n",
       "</div>"
      ],
      "text/plain": [
       "       annotation                 normalized_annotation                \n",
       "             mean       std count                  mean       std count\n",
       "leaked                                                                 \n",
       "No       2.515152  1.560411   132              2.608655  1.452351   132\n",
       "Yes      2.583333  1.510112   168              2.762081  1.522605   168"
      ]
     },
     "execution_count": 969,
     "metadata": {},
     "output_type": "execute_result"
    }
   ],
   "source": [
    "data.groupby(['leaked']).agg({'annotation': ['mean', 'std', 'count'], 'normalized_annotation': ['mean', 'std', 'count']})"
   ]
  },
  {
   "cell_type": "markdown",
   "id": "b0251ef3",
   "metadata": {},
   "source": [
    "#### Observations:\n",
    "We can see that leaking rationales are perceived to be slightly better than non-leaking rationales. However, this could be due to leaking rationales with correct predictions, which are the highest-rated rationales, being more common in the data, as can be observed in the previous table. We confirm by adding one level of aggregation:"
   ]
  },
  {
   "cell_type": "code",
   "execution_count": 970,
   "id": "380a50fe",
   "metadata": {},
   "outputs": [
    {
     "data": {
      "text/html": [
       "<div>\n",
       "<style scoped>\n",
       "    .dataframe tbody tr th:only-of-type {\n",
       "        vertical-align: middle;\n",
       "    }\n",
       "\n",
       "    .dataframe tbody tr th {\n",
       "        vertical-align: top;\n",
       "    }\n",
       "\n",
       "    .dataframe thead tr th {\n",
       "        text-align: left;\n",
       "    }\n",
       "\n",
       "    .dataframe thead tr:last-of-type th {\n",
       "        text-align: right;\n",
       "    }\n",
       "</style>\n",
       "<table border=\"1\" class=\"dataframe\">\n",
       "  <thead>\n",
       "    <tr>\n",
       "      <th></th>\n",
       "      <th></th>\n",
       "      <th colspan=\"3\" halign=\"left\">annotation</th>\n",
       "      <th colspan=\"3\" halign=\"left\">normalized_annotation</th>\n",
       "    </tr>\n",
       "    <tr>\n",
       "      <th></th>\n",
       "      <th></th>\n",
       "      <th>mean</th>\n",
       "      <th>std</th>\n",
       "      <th>count</th>\n",
       "      <th>mean</th>\n",
       "      <th>std</th>\n",
       "      <th>count</th>\n",
       "    </tr>\n",
       "    <tr>\n",
       "      <th>leaked</th>\n",
       "      <th>correct_pred</th>\n",
       "      <th></th>\n",
       "      <th></th>\n",
       "      <th></th>\n",
       "      <th></th>\n",
       "      <th></th>\n",
       "      <th></th>\n",
       "    </tr>\n",
       "  </thead>\n",
       "  <tbody>\n",
       "    <tr>\n",
       "      <th rowspan=\"2\" valign=\"top\">No</th>\n",
       "      <th>False</th>\n",
       "      <td>2.264368</td>\n",
       "      <td>1.482140</td>\n",
       "      <td>87</td>\n",
       "      <td>2.338736</td>\n",
       "      <td>1.390030</td>\n",
       "      <td>87</td>\n",
       "    </tr>\n",
       "    <tr>\n",
       "      <th>True</th>\n",
       "      <td>3.000000</td>\n",
       "      <td>1.609630</td>\n",
       "      <td>45</td>\n",
       "      <td>3.130498</td>\n",
       "      <td>1.442543</td>\n",
       "      <td>45</td>\n",
       "    </tr>\n",
       "    <tr>\n",
       "      <th rowspan=\"2\" valign=\"top\">Yes</th>\n",
       "      <th>False</th>\n",
       "      <td>1.958333</td>\n",
       "      <td>1.247454</td>\n",
       "      <td>96</td>\n",
       "      <td>2.102462</td>\n",
       "      <td>1.204355</td>\n",
       "      <td>96</td>\n",
       "    </tr>\n",
       "    <tr>\n",
       "      <th>True</th>\n",
       "      <td>3.416667</td>\n",
       "      <td>1.431536</td>\n",
       "      <td>72</td>\n",
       "      <td>3.641573</td>\n",
       "      <td>1.462699</td>\n",
       "      <td>72</td>\n",
       "    </tr>\n",
       "  </tbody>\n",
       "</table>\n",
       "</div>"
      ],
      "text/plain": [
       "                    annotation                 normalized_annotation  \\\n",
       "                          mean       std count                  mean   \n",
       "leaked correct_pred                                                    \n",
       "No     False          2.264368  1.482140    87              2.338736   \n",
       "       True           3.000000  1.609630    45              3.130498   \n",
       "Yes    False          1.958333  1.247454    96              2.102462   \n",
       "       True           3.416667  1.431536    72              3.641573   \n",
       "\n",
       "                                     \n",
       "                          std count  \n",
       "leaked correct_pred                  \n",
       "No     False         1.390030    87  \n",
       "       True          1.442543    45  \n",
       "Yes    False         1.204355    96  \n",
       "       True          1.462699    72  "
      ]
     },
     "execution_count": 970,
     "metadata": {},
     "output_type": "execute_result"
    }
   ],
   "source": [
    "data.groupby(['leaked', 'correct_pred']).agg({'annotation': ['mean', 'std', 'count'], 'normalized_annotation': ['mean', 'std', 'count']})"
   ]
  },
  {
   "cell_type": "markdown",
   "id": "b0dd7aec",
   "metadata": {},
   "source": [
    "Indeed, while false predictions are roughly equally common for leaking and non-leaking rationales, we have significantly more correct predictions for leaking rationales than for non-leaking rationales. Again as mentioned before, correct predictions of leaking rationales are rated higher than predictions of non-leaking rationales. \n",
    "\n",
    "This result is nothing new and has already been discussed in the previous observations."
   ]
  },
  {
   "cell_type": "markdown",
   "id": "7357c1b1",
   "metadata": {},
   "source": [
    "### We now aggregate the annotations by which target was shown and whether the shown target was the ground truth target:"
   ]
  },
  {
   "cell_type": "code",
   "execution_count": 971,
   "id": "fdec7da6",
   "metadata": {
    "scrolled": true
   },
   "outputs": [
    {
     "data": {
      "text/html": [
       "<div>\n",
       "<style scoped>\n",
       "    .dataframe tbody tr th:only-of-type {\n",
       "        vertical-align: middle;\n",
       "    }\n",
       "\n",
       "    .dataframe tbody tr th {\n",
       "        vertical-align: top;\n",
       "    }\n",
       "\n",
       "    .dataframe thead tr th {\n",
       "        text-align: left;\n",
       "    }\n",
       "\n",
       "    .dataframe thead tr:last-of-type th {\n",
       "        text-align: right;\n",
       "    }\n",
       "</style>\n",
       "<table border=\"1\" class=\"dataframe\">\n",
       "  <thead>\n",
       "    <tr>\n",
       "      <th></th>\n",
       "      <th></th>\n",
       "      <th colspan=\"3\" halign=\"left\">annotation</th>\n",
       "      <th colspan=\"3\" halign=\"left\">normalized_annotation</th>\n",
       "    </tr>\n",
       "    <tr>\n",
       "      <th></th>\n",
       "      <th></th>\n",
       "      <th>mean</th>\n",
       "      <th>std</th>\n",
       "      <th>count</th>\n",
       "      <th>mean</th>\n",
       "      <th>std</th>\n",
       "      <th>count</th>\n",
       "    </tr>\n",
       "    <tr>\n",
       "      <th>shown_target</th>\n",
       "      <th>corr_target_shown</th>\n",
       "      <th></th>\n",
       "      <th></th>\n",
       "      <th></th>\n",
       "      <th></th>\n",
       "      <th></th>\n",
       "      <th></th>\n",
       "    </tr>\n",
       "  </thead>\n",
       "  <tbody>\n",
       "    <tr>\n",
       "      <th rowspan=\"2\" valign=\"top\">Middle</th>\n",
       "      <th>False</th>\n",
       "      <td>3.111111</td>\n",
       "      <td>1.604732</td>\n",
       "      <td>18</td>\n",
       "      <td>3.100163</td>\n",
       "      <td>1.405394</td>\n",
       "      <td>18</td>\n",
       "    </tr>\n",
       "    <tr>\n",
       "      <th>True</th>\n",
       "      <td>2.238095</td>\n",
       "      <td>1.513432</td>\n",
       "      <td>21</td>\n",
       "      <td>2.196586</td>\n",
       "      <td>1.260922</td>\n",
       "      <td>21</td>\n",
       "    </tr>\n",
       "    <tr>\n",
       "      <th rowspan=\"2\" valign=\"top\">No</th>\n",
       "      <th>False</th>\n",
       "      <td>1.939394</td>\n",
       "      <td>1.390580</td>\n",
       "      <td>33</td>\n",
       "      <td>1.991860</td>\n",
       "      <td>1.341462</td>\n",
       "      <td>33</td>\n",
       "    </tr>\n",
       "    <tr>\n",
       "      <th>True</th>\n",
       "      <td>2.200000</td>\n",
       "      <td>1.350822</td>\n",
       "      <td>90</td>\n",
       "      <td>2.448663</td>\n",
       "      <td>1.425252</td>\n",
       "      <td>90</td>\n",
       "    </tr>\n",
       "    <tr>\n",
       "      <th rowspan=\"2\" valign=\"top\">Yes</th>\n",
       "      <th>False</th>\n",
       "      <td>2.333333</td>\n",
       "      <td>1.393864</td>\n",
       "      <td>36</td>\n",
       "      <td>2.480220</td>\n",
       "      <td>1.397314</td>\n",
       "      <td>36</td>\n",
       "    </tr>\n",
       "    <tr>\n",
       "      <th>True</th>\n",
       "      <td>3.107843</td>\n",
       "      <td>1.585247</td>\n",
       "      <td>102</td>\n",
       "      <td>3.245508</td>\n",
       "      <td>1.511061</td>\n",
       "      <td>102</td>\n",
       "    </tr>\n",
       "  </tbody>\n",
       "</table>\n",
       "</div>"
      ],
      "text/plain": [
       "                               annotation                  \\\n",
       "                                     mean       std count   \n",
       "shown_target corr_target_shown                              \n",
       "Middle       False               3.111111  1.604732    18   \n",
       "             True                2.238095  1.513432    21   \n",
       "No           False               1.939394  1.390580    33   \n",
       "             True                2.200000  1.350822    90   \n",
       "Yes          False               2.333333  1.393864    36   \n",
       "             True                3.107843  1.585247   102   \n",
       "\n",
       "                               normalized_annotation                  \n",
       "                                                mean       std count  \n",
       "shown_target corr_target_shown                                        \n",
       "Middle       False                          3.100163  1.405394    18  \n",
       "             True                           2.196586  1.260922    21  \n",
       "No           False                          1.991860  1.341462    33  \n",
       "             True                           2.448663  1.425252    90  \n",
       "Yes          False                          2.480220  1.397314    36  \n",
       "             True                           3.245508  1.511061   102  "
      ]
     },
     "execution_count": 971,
     "metadata": {},
     "output_type": "execute_result"
    }
   ],
   "source": [
    "data.groupby(['shown_target', 'corr_target_shown']).agg({'annotation': ['mean', 'std', 'count'], 'normalized_annotation': ['mean', 'std', 'count']})"
   ]
  },
  {
   "cell_type": "markdown",
   "id": "bc0c9625",
   "metadata": {},
   "source": [
    "Firstly, we note that there is a heavy imbalance between the number of datapoints we have for correctly shown targets 'YES' and 'NO' and all other possible configurations. \n",
    "\n",
    "Interesting observation:\n",
    "\n",
    "It appears that the model is better at producing rationales that support the target 'Yes' than it is at producing rationales that support the target 'No'. This can be seen in higher ratings for correctly shown targets 'Yes' than correctly shown targets 'No'. However from this table, we do not know what target the model predicted in both cases and can therefore not draw a definite conclusion from this yet. Maybe the model predicted more samples with shown target 'Yes' correctly than with shown target 'No' and due to a potential lack of faithfulness the ratings are higher in the former scenario. Unfortunately, due to the small number of annotations, we cannot make any conclusions when further grouping by model prediction.\n",
    "\n",
    "This is further supported by having higher ratings for incorrectly showing targets 'Yes' than for incorrectly showing targets 'No'. This suggests that generated rationales align better with targets 'Yes' than with targets 'No'. \n",
    "\n",
    "This is also something I noticed when annotating samples myself: The rationales are quite good when they are positive statements. However, they have very low quality when they need to be negative statements. I also noticed that most rationales would actually be valid negative statements (and therefore have high quality) if on part of the rationale was logically flipped or negated. However, this is a personal observation and thus not reliable."
   ]
  },
  {
   "cell_type": "markdown",
   "id": "a35f3a7f",
   "metadata": {},
   "source": [
    "### Now an aggregation by correct target, whether the correct target was shown and whether the model made the correct prediction:"
   ]
  },
  {
   "cell_type": "code",
   "execution_count": 972,
   "id": "d9525f1f",
   "metadata": {},
   "outputs": [
    {
     "data": {
      "text/html": [
       "<div>\n",
       "<style scoped>\n",
       "    .dataframe tbody tr th:only-of-type {\n",
       "        vertical-align: middle;\n",
       "    }\n",
       "\n",
       "    .dataframe tbody tr th {\n",
       "        vertical-align: top;\n",
       "    }\n",
       "\n",
       "    .dataframe thead tr th {\n",
       "        text-align: left;\n",
       "    }\n",
       "\n",
       "    .dataframe thead tr:last-of-type th {\n",
       "        text-align: right;\n",
       "    }\n",
       "</style>\n",
       "<table border=\"1\" class=\"dataframe\">\n",
       "  <thead>\n",
       "    <tr>\n",
       "      <th></th>\n",
       "      <th></th>\n",
       "      <th></th>\n",
       "      <th colspan=\"3\" halign=\"left\">annotation</th>\n",
       "      <th colspan=\"3\" halign=\"left\">normalized_annotation</th>\n",
       "    </tr>\n",
       "    <tr>\n",
       "      <th></th>\n",
       "      <th></th>\n",
       "      <th></th>\n",
       "      <th>mean</th>\n",
       "      <th>std</th>\n",
       "      <th>count</th>\n",
       "      <th>mean</th>\n",
       "      <th>std</th>\n",
       "      <th>count</th>\n",
       "    </tr>\n",
       "    <tr>\n",
       "      <th>target</th>\n",
       "      <th>corr_target_shown</th>\n",
       "      <th>correct_pred</th>\n",
       "      <th></th>\n",
       "      <th></th>\n",
       "      <th></th>\n",
       "      <th></th>\n",
       "      <th></th>\n",
       "      <th></th>\n",
       "    </tr>\n",
       "  </thead>\n",
       "  <tbody>\n",
       "    <tr>\n",
       "      <th rowspan=\"2\" valign=\"top\">Middle</th>\n",
       "      <th>False</th>\n",
       "      <th>False</th>\n",
       "      <td>2.333333</td>\n",
       "      <td>1.653280</td>\n",
       "      <td>21</td>\n",
       "      <td>2.501821</td>\n",
       "      <td>1.753493</td>\n",
       "      <td>21</td>\n",
       "    </tr>\n",
       "    <tr>\n",
       "      <th>True</th>\n",
       "      <th>False</th>\n",
       "      <td>2.238095</td>\n",
       "      <td>1.513432</td>\n",
       "      <td>21</td>\n",
       "      <td>2.196586</td>\n",
       "      <td>1.260922</td>\n",
       "      <td>21</td>\n",
       "    </tr>\n",
       "    <tr>\n",
       "      <th rowspan=\"3\" valign=\"top\">No</th>\n",
       "      <th>False</th>\n",
       "      <th>False</th>\n",
       "      <td>2.611111</td>\n",
       "      <td>1.517098</td>\n",
       "      <td>36</td>\n",
       "      <td>2.743053</td>\n",
       "      <td>1.394258</td>\n",
       "      <td>36</td>\n",
       "    </tr>\n",
       "    <tr>\n",
       "      <th rowspan=\"2\" valign=\"top\">True</th>\n",
       "      <th>False</th>\n",
       "      <td>1.880952</td>\n",
       "      <td>1.253335</td>\n",
       "      <td>42</td>\n",
       "      <td>2.050856</td>\n",
       "      <td>1.297646</td>\n",
       "      <td>42</td>\n",
       "    </tr>\n",
       "    <tr>\n",
       "      <th>True</th>\n",
       "      <td>2.479167</td>\n",
       "      <td>1.383637</td>\n",
       "      <td>48</td>\n",
       "      <td>2.796745</td>\n",
       "      <td>1.453447</td>\n",
       "      <td>48</td>\n",
       "    </tr>\n",
       "    <tr>\n",
       "      <th rowspan=\"3\" valign=\"top\">Yes</th>\n",
       "      <th>False</th>\n",
       "      <th>False</th>\n",
       "      <td>2.033333</td>\n",
       "      <td>1.299425</td>\n",
       "      <td>30</td>\n",
       "      <td>1.984469</td>\n",
       "      <td>1.096770</td>\n",
       "      <td>30</td>\n",
       "    </tr>\n",
       "    <tr>\n",
       "      <th rowspan=\"2\" valign=\"top\">True</th>\n",
       "      <th>False</th>\n",
       "      <td>1.666667</td>\n",
       "      <td>0.924211</td>\n",
       "      <td>33</td>\n",
       "      <td>1.885452</td>\n",
       "      <td>0.850959</td>\n",
       "      <td>33</td>\n",
       "    </tr>\n",
       "    <tr>\n",
       "      <th>True</th>\n",
       "      <td>3.797101</td>\n",
       "      <td>1.356680</td>\n",
       "      <td>69</td>\n",
       "      <td>3.895970</td>\n",
       "      <td>1.312866</td>\n",
       "      <td>69</td>\n",
       "    </tr>\n",
       "  </tbody>\n",
       "</table>\n",
       "</div>"
      ],
      "text/plain": [
       "                                      annotation                  \\\n",
       "                                            mean       std count   \n",
       "target corr_target_shown correct_pred                              \n",
       "Middle False             False          2.333333  1.653280    21   \n",
       "       True              False          2.238095  1.513432    21   \n",
       "No     False             False          2.611111  1.517098    36   \n",
       "       True              False          1.880952  1.253335    42   \n",
       "                         True           2.479167  1.383637    48   \n",
       "Yes    False             False          2.033333  1.299425    30   \n",
       "       True              False          1.666667  0.924211    33   \n",
       "                         True           3.797101  1.356680    69   \n",
       "\n",
       "                                      normalized_annotation                  \n",
       "                                                       mean       std count  \n",
       "target corr_target_shown correct_pred                                        \n",
       "Middle False             False                     2.501821  1.753493    21  \n",
       "       True              False                     2.196586  1.260922    21  \n",
       "No     False             False                     2.743053  1.394258    36  \n",
       "       True              False                     2.050856  1.297646    42  \n",
       "                         True                      2.796745  1.453447    48  \n",
       "Yes    False             False                     1.984469  1.096770    30  \n",
       "       True              False                     1.885452  0.850959    33  \n",
       "                         True                      3.895970  1.312866    69  "
      ]
     },
     "execution_count": 972,
     "metadata": {},
     "output_type": "execute_result"
    }
   ],
   "source": [
    "data.groupby(['target', 'corr_target_shown', 'correct_pred']).agg({'annotation': ['mean', 'std', 'count'], 'normalized_annotation': ['mean', 'std', 'count']})"
   ]
  },
  {
   "cell_type": "markdown",
   "id": "d35af858",
   "metadata": {},
   "source": [
    "#### Observations:\n",
    "First, we notice that we have no annotations for correctly predicted targets 'in the middle'. This is unfortunate, since this label would give valuable insights into what the model would do if it correctly identified non-polar answers.\n",
    "\n",
    "An interesting result is that if the correct target is 'Yes' and we show this to the annotator, the rationale quality seems to be much better perceived if the model also predicted 'Yes' instead of a different label. This indicates that the rationale quality suffers under wrong predictions. However, it is not possible to draw conclusions about the model faithfulness because for this we would need to consider the model prediction instead of a correct/incorrect prediction. As the number of annotations per group is already very small, we cannot make such a split. Further, we discussed earlier that we suspect that annotators did not rate faithfulness in a large portion of shown samples.\n",
    "\n",
    "Another interesting observation is that for a target 'No', showing the incorrect prediction instead of the true label results in a roughly equaly perceived rationale quality as when showing the true label 'No' under a correct prediction. This could result from the following situation:\n",
    "- the model is better at generating positive (or neutral to positive) rationales\n",
    "- the model generates decent negative rationales if the target 'No' is correctly predicted\n",
    "- the model is highly faithful towards it's prediction\n",
    "- the annotators rate the situation in which the target 'No' is correctly predicted highly as the prediction as well as the rationale make sense in case of the given sample\n",
    "- the annotators rate the situation in which a wrong prediction is shown instead of the true target 'No' highly as positive rationales are generally of high quality\n",
    "\n",
    "However, the low number of annotations and the simplicity of the survey setup again prohibit us from drawing any definite conclusions."
   ]
  },
  {
   "cell_type": "markdown",
   "id": "fcd16816",
   "metadata": {},
   "source": [
    "### We now investigate average ratings by shown vs. true target:"
   ]
  },
  {
   "cell_type": "code",
   "execution_count": 973,
   "id": "73ac9e99",
   "metadata": {},
   "outputs": [
    {
     "data": {
      "image/png": "[encoded data removed]",
      "text/plain": [
       "<Figure size 432x288 with 1 Axes>"
      ]
     },
     "metadata": {
      "needs_background": "light"
     },
     "output_type": "display_data"
    }
   ],
   "source": [
    "pivot_mean = pd.pivot_table(data, values='normalized_annotation', index='target', columns='shown_target', aggfunc=np.mean)\n",
    "pivot_std = pd.pivot_table(data, values='normalized_annotation', index='target', columns='shown_target', aggfunc=np.std)\n",
    "fig, ax = plt.subplots()\n",
    "ax.imshow(pivot_mean.to_numpy())\n",
    "ax.set_xticks(np.arange(len(pivot_mean.columns)))\n",
    "ax.set_yticks(np.arange(len(pivot_mean.index)))\n",
    "ax.set_xticklabels(pivot_mean.columns)\n",
    "ax.set_yticklabels(pivot_mean.index)\n",
    "ax.set_ylabel(\"True Target\")\n",
    "ax.set_xlabel(\"Shown Target\")\n",
    "ax.set_title(\"Mean (std) of annotations by shown vs. true target\")\n",
    "plt.setp(ax.get_yticklabels(), rotation=45, ha=\"right\",\n",
    "         rotation_mode=\"anchor\")\n",
    "for i in range(len(pivot_mean.index)):\n",
    "    for j in range(len(pivot_mean.columns)):\n",
    "        text = ax.text(j, i, str(round(pivot_mean.to_numpy()[i, j], 2))+\" (\"+str(round(pivot_std.to_numpy()[i, j], 2))+\")\",\n",
    "                       ha=\"center\", va=\"center\", color=\"w\" if round(pivot_mean.to_numpy()[i, j], 2) < 3.5 else \"black\")\n",
    "\n",
    "plt.show()"
   ]
  },
  {
   "cell_type": "markdown",
   "id": "f6a025c4",
   "metadata": {},
   "source": [
    "#### Observations:\n",
    "As expected from our previous observations, if we show the target 'Yes' and it is also the true target, the quality of the rationale is fairly high. This again supports that the model is good at generating positive rationales as the shown target could not only correspond to a correct but also to a wrong prediction. \n",
    "\n",
    "If the model predicts 'in the middle' instead of the true target 'No' and we show the prediction to the annotator, the rating is extremely high (for our results). This could either result from the model being faithful (which we can't properly judge due to the annotators apparently disregarding the survey instructions) or again because of the model being better at generating positive rationales. \n",
    "\n",
    "Also high ratings were given to showing the wrong prediction 'Yes' instead of the true target. Again, the same reasoning can be applied of this either being due to high faithfulness in the rationales or because of the model having an easier time to generate positive rationales. \n",
    "\n",
    "Further, if a wrong prediction 'No' is shown instead of the true target 'Yes', the perceived quality of the rationales is extremely low. This could either be because wrong predictions 'No' do not work well with indirect answers that actually mean 'Yes' (and we suspect annotators do not solely evaluate faithfulness but also predictions) or because the model is mostly unable to produce proper negative rationales in this case.\n",
    "\n",
    "On the contrary, if we show the wrong model prediction 'Yes' for a sample that actually has target 'No', the perceived quality of the rationales is roughly the same as when showing the true target no. However, we cannot draw the conclusion that this is due to the model being better at generating positive rationales as we have no way of evaluating how well the shown target 'Yes' is compatible with samples with true targets 'No' and in this graphic, the shown target 'No' can either be a correct prediction or the true target under an incorrect prediction and thus possibly a positive rationale. Further splitting the data would again result in too few annotations for conclusions.\n",
    "\n",
    "The top left quadrant corresponds to the true target 'in the middle' being shown instead of a wrong prediction as we have seen before that there are no instances with correct predictions for 'in the middle'.\n",
    "\n",
    "From the top row we can further observe that the model might indeed be better at generating positive rationales than negative ones as if the correct target is 'in the middle', showing rationales with the wrongly predicted target 'Yes' leads to a higher perceived rationale quality than showing rationales with the wrongly predicted label 'No'. However, it is not clear whether instances with true target 'in the middle' are more coherent when being paired with an incorrect target 'No' or incorrect target 'Yes'. This would require a separate human evaluation."
   ]
  },
  {
   "cell_type": "markdown",
   "id": "09c276f9",
   "metadata": {},
   "source": [
    "### We now look at annotations by true target vs. prediction if the correct target is shown:"
   ]
  },
  {
   "cell_type": "code",
   "execution_count": 974,
   "id": "8e601f45",
   "metadata": {},
   "outputs": [
    {
     "data": {
      "image/png": "[encoded data removed]",
      "text/plain": [
       "<Figure size 432x288 with 1 Axes>"
      ]
     },
     "metadata": {
      "needs_background": "light"
     },
     "output_type": "display_data"
    }
   ],
   "source": [
    "pivot_mean = pd.pivot_table(data[data['corr_target_shown'] == True], values='normalized_annotation', index='target', columns='prediction', aggfunc=np.mean)\n",
    "pivot_std = pd.pivot_table(data[data['corr_target_shown'] == True], values='normalized_annotation', index='target', columns='prediction', aggfunc=np.std)\n",
    "fig, ax = plt.subplots()\n",
    "ax.imshow(pivot_mean.to_numpy())\n",
    "ax.set_xticks(np.arange(len(pivot_mean.columns)))\n",
    "ax.set_yticks(np.arange(len(pivot_mean.index)))\n",
    "ax.set_xticklabels(pivot_mean.columns)\n",
    "ax.set_yticklabels(pivot_mean.index)\n",
    "ax.set_ylabel(\"True Target\")\n",
    "ax.set_xlabel(\"Prediction\")\n",
    "ax.set_title(\"Mean (std) of Annotations\")\n",
    "plt.setp(ax.get_yticklabels(), rotation=45, ha=\"right\",\n",
    "         rotation_mode=\"anchor\")\n",
    "for i in range(len(pivot_mean.index)):\n",
    "    for j in range(len(pivot_mean.columns)):\n",
    "        text = ax.text(j, i, str(round(pivot_mean.to_numpy()[i, j], 2)) + \" (\" + str(round(pivot_std.to_numpy()[i, j], 2)) + \")\",\n",
    "                       ha=\"center\", va=\"center\", color=\"w\" if round(pivot_mean.to_numpy()[i, j], 2) < 3.5 else \"black\")\n",
    "\n",
    "plt.savefig(\"predicted_vs_true__target_shown.png\", dpi=300, bbox_inches='tight')"
   ]
  },
  {
   "cell_type": "markdown",
   "id": "048a865f",
   "metadata": {},
   "source": [
    "#### Observations:\n",
    "We notice that the perceived quality of rationales is significantly worse if we show the true target 'Yes' together with rationales that were generated alongside a wrong prediction. However, this does not indicate faithfulness as we would need to observe higher ratings if the prediction is shown instead of the true targets. For more, see the next graphic.\n",
    "\n",
    "We again observe that correctly identified targets 'Yes' lead to higher rated rationales than correctly identified targets 'No'. This again shows that the model appears to be better at generating positive rationales.\n",
    "\n",
    "Annotations for a wrongly predicted target 'in the middle' are perceived much better if the true target is 'No' than if the true target is 'Yes'. Especially considering that before we found that if the correct target is 'in the middle', showing rationales with the wrongly predicted target 'Yes' leads to a higher perceived rationale quality than showing rationales with the wrongly predicted label 'No', this result is surprising (we can also observe this in the top row). However, we are again unable to draw definite conclusions from this due to the inability to judge whether annotators rated faithfulness to the shown targets."
   ]
  },
  {
   "cell_type": "markdown",
   "id": "ed9374f6",
   "metadata": {},
   "source": [
    "### The following graphic depicts annotations by true target vs. prediction if the prediction is shown:"
   ]
  },
  {
   "cell_type": "code",
   "execution_count": 975,
   "id": "01164e0c",
   "metadata": {},
   "outputs": [
    {
     "data": {
      "image/png": "[encoded data removed]",
      "text/plain": [
       "<Figure size 432x288 with 1 Axes>"
      ]
     },
     "metadata": {
      "needs_background": "light"
     },
     "output_type": "display_data"
    }
   ],
   "source": [
    "pivot_mean = pd.pivot_table(data.loc[(data['corr_target_shown'] == False) | (data['correct_pred'] == True)],\n",
    "                                values='normalized_annotation',\n",
    "                                index='target',\n",
    "                                columns='prediction',\n",
    "                                aggfunc=np.mean)\n",
    "pivot_std = pd.pivot_table(data[data['corr_target_shown'] == False  | (data['correct_pred'] == True)], values='normalized_annotation', index='target', columns='prediction',\n",
    "                           aggfunc=np.std)\n",
    "fig, ax = plt.subplots()\n",
    "ax.imshow(pivot_mean.to_numpy())\n",
    "ax.set_xticks(np.arange(len(pivot_mean.columns)))\n",
    "ax.set_yticks(np.arange(len(pivot_mean.index)))\n",
    "ax.set_xticklabels(pivot_mean.columns)\n",
    "ax.set_yticklabels(pivot_mean.index)\n",
    "ax.set_ylabel(\"True Target\")\n",
    "ax.set_xlabel(\"Prediction\")\n",
    "ax.set_title(\"Mean (std) of Annotations\")\n",
    "plt.setp(ax.get_yticklabels(), rotation=45, ha=\"right\",\n",
    "         rotation_mode=\"anchor\")\n",
    "for i in range(len(pivot_mean.index)):\n",
    "    for j in range(len(pivot_mean.columns)):\n",
    "        text = ax.text(j, i, str(round(pivot_mean.to_numpy()[i, j], 2)) + \" (\" + str(round(pivot_std.to_numpy()[i, j], 2)) + \")\",\n",
    "                       ha=\"center\", va=\"center\", color=\"w\" if round(pivot_mean.to_numpy()[i, j], 2) < 3.5 else \"black\")\n",
    "    \n",
    "plt.savefig(\"predicted_vs_true__prediction_shown.png\", dpi=300, bbox_inches='tight')"
   ]
  },
  {
   "cell_type": "markdown",
   "id": "a3e86f26",
   "metadata": {},
   "source": [
    "#### Observations:\n",
    "We note that the ratings in the bottom left quadrant have significantly increased over showing the true target. This indicates that the model is faithful towards predictions 'in the middle' when the true target is 'Yes'. However the ratings in the bottom middle quadrant remain roughly the same as in case we show the true prediction. This could mean that there is no apparent faithfulness in case the model produces a wrong prediction 'No' for a true target 'Yes'. However, this could also result from the annotators not only considering the rationale quality towards the shown target but also the quality of the target. In this case, the shown target 'No' likely does not fit very well with the true target 'Yes'.\n",
    "\n",
    "The quadrant corresponding to the prediction 'in the middle' and true target 'No' indicates that if the model is indeed better at generating positive rationales than negative ones, rationales for the prediction 'in the middle' are closer to positive rationales than to negative ones. \n",
    "\n",
    "Considering the graphic shown before, we can now make some rather definite conclusions regarding the model being better at generating positive rationales than negative ones. We have already observed that correctly predicted targets 'Yes' receive higher rationale ratings than correctly predicted targets 'No'. We now also see that if the model wrongly predicts the target 'No' instead of the true target 'Yes', the rationales are of higher quality if the true target 'Yes' is shown to the annotators. At the same time, if the model predicts the target 'Yes' instead of the true target 'No', the rationales are of higher quality if the wrong prediction 'Yes' is shown to the annotators. Both results combined rule out faithfulness as a possible reason for this.\n",
    "\n",
    "We can make multiple interesting observations from the top row. First, we notice that if we show the model prediction instead of the true target 'in the middle', the perceived quality of rationales is higher for model prediction 'Yes' than for model prediction 'No'. From the previous graphic, we know that if the correct target is 'in the middle', showing rationales with the wrongly predicted target 'Yes' leads to a higher perceived rationale quality than showing rationales with the wrongly predicted label 'No'. Considering both graphics jointly, we see that if we switch from showing the true target to showing the model prediction, the perceived quality of rationales goes up for model predictions 'No' and goes down for model predictions 'Yes'. However, this again could be because annotators did not purely evaluate faithfulness towards the shown prediction but instead evaluated both prediction and rationale. If the model tends to produce rationales that are more fitting for polar labels instead of 'in the middle' and instances with true target 'in the middle' are conceptually closer to the target 'No' than to the target 'Yes', we would observe a similar behavior. This would however not explain why the ratings for rationales under a prediction 'Yes' are higher than the ones under a prediction 'No'. Most likely, there is a more complex interplay at action that we have not observed with the setup of our survey."
   ]
  },
  {
   "cell_type": "markdown",
   "id": "27a5000d",
   "metadata": {},
   "source": [
    "### Aggregation by correct prediction:"
   ]
  },
  {
   "cell_type": "code",
   "execution_count": 976,
   "id": "69291e61",
   "metadata": {},
   "outputs": [
    {
     "data": {
      "text/html": [
       "<div>\n",
       "<style scoped>\n",
       "    .dataframe tbody tr th:only-of-type {\n",
       "        vertical-align: middle;\n",
       "    }\n",
       "\n",
       "    .dataframe tbody tr th {\n",
       "        vertical-align: top;\n",
       "    }\n",
       "\n",
       "    .dataframe thead tr th {\n",
       "        text-align: left;\n",
       "    }\n",
       "\n",
       "    .dataframe thead tr:last-of-type th {\n",
       "        text-align: right;\n",
       "    }\n",
       "</style>\n",
       "<table border=\"1\" class=\"dataframe\">\n",
       "  <thead>\n",
       "    <tr>\n",
       "      <th></th>\n",
       "      <th colspan=\"3\" halign=\"left\">annotation</th>\n",
       "      <th colspan=\"3\" halign=\"left\">normalized_annotation</th>\n",
       "    </tr>\n",
       "    <tr>\n",
       "      <th></th>\n",
       "      <th>mean</th>\n",
       "      <th>std</th>\n",
       "      <th>count</th>\n",
       "      <th>mean</th>\n",
       "      <th>std</th>\n",
       "      <th>count</th>\n",
       "    </tr>\n",
       "    <tr>\n",
       "      <th>correct_pred</th>\n",
       "      <th></th>\n",
       "      <th></th>\n",
       "      <th></th>\n",
       "      <th></th>\n",
       "      <th></th>\n",
       "      <th></th>\n",
       "    </tr>\n",
       "  </thead>\n",
       "  <tbody>\n",
       "    <tr>\n",
       "      <th>False</th>\n",
       "      <td>2.103825</td>\n",
       "      <td>1.368860</td>\n",
       "      <td>183</td>\n",
       "      <td>2.214789</td>\n",
       "      <td>1.297737</td>\n",
       "      <td>183</td>\n",
       "    </tr>\n",
       "    <tr>\n",
       "      <th>True</th>\n",
       "      <td>3.256410</td>\n",
       "      <td>1.509475</td>\n",
       "      <td>117</td>\n",
       "      <td>3.445006</td>\n",
       "      <td>1.470098</td>\n",
       "      <td>117</td>\n",
       "    </tr>\n",
       "  </tbody>\n",
       "</table>\n",
       "</div>"
      ],
      "text/plain": [
       "             annotation                 normalized_annotation                \n",
       "                   mean       std count                  mean       std count\n",
       "correct_pred                                                                 \n",
       "False          2.103825  1.368860   183              2.214789  1.297737   183\n",
       "True           3.256410  1.509475   117              3.445006  1.470098   117"
      ]
     },
     "execution_count": 976,
     "metadata": {},
     "output_type": "execute_result"
    }
   ],
   "source": [
    "data.groupby(['correct_pred']).agg(\n",
    "        {'annotation': ['mean', 'std', 'count'], 'normalized_annotation': ['mean', 'std', 'count']})"
   ]
  },
  {
   "cell_type": "markdown",
   "id": "89f771b3",
   "metadata": {},
   "source": [
    "#### Observations:\n",
    "Unsurprisingly, we note that if the model makes a correct prediction, the perceived quality of the rationales is higher than when the model makes a wrong prediction. This is mainly because in this case the whole output of the model fits to the input. Further, the annotators not purely evaluating faithfulness but also the prediction could play a role here. Lastly, we note that there have been no correct predictions for the label 'in the middle' and since we suspect that polar labels are easier to rationalize, this could play a further role in the results shown."
   ]
  },
  {
   "cell_type": "markdown",
   "id": "2235f339",
   "metadata": {},
   "source": [
    "## Worker analysis"
   ]
  },
  {
   "cell_type": "markdown",
   "id": "09a9ead3",
   "metadata": {},
   "source": [
    "First, we look at how often the different ratings were selected:"
   ]
  },
  {
   "cell_type": "code",
   "execution_count": 977,
   "id": "ef253764",
   "metadata": {},
   "outputs": [
    {
     "data": {
      "text/plain": [
       "1    111\n",
       "2     62\n",
       "5     52\n",
       "4     46\n",
       "3     29\n",
       "Name: annotation, dtype: int64"
      ]
     },
     "execution_count": 977,
     "metadata": {},
     "output_type": "execute_result"
    }
   ],
   "source": [
    "data['annotation'].value_counts()"
   ]
  },
  {
   "cell_type": "markdown",
   "id": "fa9766a0",
   "metadata": {},
   "source": [
    "We calculate the normalized mean annotation:"
   ]
  },
  {
   "cell_type": "code",
   "execution_count": 978,
   "id": "7333850d",
   "metadata": {},
   "outputs": [
    {
     "data": {
      "text/plain": [
       "2.694573329020269"
      ]
     },
     "execution_count": 978,
     "metadata": {},
     "output_type": "execute_result"
    }
   ],
   "source": [
    "data['normalized_annotation'].mean()"
   ]
  },
  {
   "cell_type": "markdown",
   "id": "8c3f2d6e",
   "metadata": {},
   "source": [
    "We calculate the unnormalized mean annotation:"
   ]
  },
  {
   "cell_type": "code",
   "execution_count": 979,
   "id": "fefd7a7c",
   "metadata": {},
   "outputs": [
    {
     "data": {
      "text/plain": [
       "2.5533333333333332"
      ]
     },
     "execution_count": 979,
     "metadata": {},
     "output_type": "execute_result"
    }
   ],
   "source": [
    "data['annotation'].mean()"
   ]
  },
  {
   "cell_type": "markdown",
   "id": "ed2df629",
   "metadata": {},
   "source": [
    "We see the normalized mean is not too different from the unnormalized mean, which is what we expected."
   ]
  },
  {
   "cell_type": "markdown",
   "id": "abdfd68d",
   "metadata": {},
   "source": [
    "For future reference (if we choose to make a follow-up survey), we now investigate the annotation time required:"
   ]
  },
  {
   "cell_type": "code",
   "execution_count": 980,
   "id": "baca3448",
   "metadata": {},
   "outputs": [
    {
     "data": {
      "image/png": "[encoded data removed]",
      "text/plain": [
       "<Figure size 432x288 with 1 Axes>"
      ]
     },
     "metadata": {
      "needs_background": "light"
     },
     "output_type": "display_data"
    }
   ],
   "source": [
    "annotation_times = data['WorkTimeInSeconds'].to_numpy()\n",
    "sns.histplot(annotation_times, bins=30)\n",
    "plt.show()"
   ]
  },
  {
   "cell_type": "markdown",
   "id": "595a1528",
   "metadata": {},
   "source": [
    "We observe that most annotations take less than 100 seconds. Thus, we will treat all annotations which took more than 100 seconds as outliers and remove them from our further computations."
   ]
  },
  {
   "cell_type": "code",
   "execution_count": 981,
   "id": "10095a7e",
   "metadata": {},
   "outputs": [
    {
     "data": {
      "image/png": "[encoded data removed]",
      "text/plain": [
       "<Figure size 432x288 with 1 Axes>"
      ]
     },
     "metadata": {
      "needs_background": "light"
     },
     "output_type": "display_data"
    }
   ],
   "source": [
    "annotation_times = data[data['WorkTimeInSeconds'] <= 100]['WorkTimeInSeconds'].to_numpy()\n",
    "sns.histplot(annotation_times, bins=30)\n",
    "plt.show()"
   ]
  },
  {
   "cell_type": "markdown",
   "id": "2016d988",
   "metadata": {},
   "source": [
    "We calculate the 75th percentile and use that as a reference time for future annotations:"
   ]
  },
  {
   "cell_type": "code",
   "execution_count": 982,
   "id": "6e04b6c9",
   "metadata": {},
   "outputs": [
    {
     "data": {
      "text/plain": [
       "32.0"
      ]
     },
     "execution_count": 982,
     "metadata": {},
     "output_type": "execute_result"
    }
   ],
   "source": [
    "np.percentile(annotation_times, q=75)"
   ]
  },
  {
   "cell_type": "markdown",
   "id": "22821ffc",
   "metadata": {},
   "source": [
    "We see that this roughly equals the initially stated 30 seconds of time that is required per annotation."
   ]
  },
  {
   "cell_type": "markdown",
   "id": "8e3dc584",
   "metadata": {},
   "source": [
    "## Krippendorff's alpha:"
   ]
  },
  {
   "cell_type": "markdown",
   "id": "fd5ec64b",
   "metadata": {},
   "source": [
    "To evaluate inter-worker aggreement, we use Krippendorff's alpha, which, in contrast to Cohen's beta, is able to consider missing values. In our dataset, missing values come in form of not every annotator having evaluated every sample.\n",
    "\n",
    "We suspect that the Likert scale in our case is an interval scale, yet we report both the Krippendorff's alpha for nominal and interval scales."
   ]
  },
  {
   "cell_type": "code",
   "execution_count": 983,
   "id": "937f2263",
   "metadata": {},
   "outputs": [
    {
     "name": "stdout",
     "output_type": "stream",
     "text": [
      "Krippendorff's alpha nominal: 0.17546278639950708\n",
      "Krippendorff's alpha interval: 0.4576422082992134\n"
     ]
    }
   ],
   "source": [
    "agg_data = data.copy()\n",
    "agg_data['dummy_id'] = agg_data['id'].astype(str) + agg_data['corr_target_shown'].astype(str)\n",
    "agg_data = agg_data.pivot(index='WorkerId', columns='dummy_id', values='annotation')\n",
    "agg_data = agg_data.fillna('*')\n",
    "ka_nominal = krippendorff_alpha(agg_data.to_numpy(), nominal_metric, missing_items='*')\n",
    "ka_interval = krippendorff_alpha(agg_data.to_numpy(), interval_metric, missing_items='*')\n",
    "print(f\"Krippendorff\\'s alpha nominal: {ka_nominal}\")\n",
    "print(f\"Krippendorff\\'s alpha interval: {ka_interval}\")"
   ]
  },
  {
   "cell_type": "markdown",
   "id": "40596f68",
   "metadata": {},
   "source": [
    "We see that in the interval case, annotators tend to agree systematically which makes the survey results valid to be used for analysis. The nominal Krippendorff's alpha is significantly lower, but as our items in the Likert scale are at least ordinal, the nominal Krippendorff's alpha is less expressive."
   ]
  },
  {
   "cell_type": "markdown",
   "id": "60533846",
   "metadata": {},
   "source": [
    "## LAS Score"
   ]
  },
  {
   "cell_type": "markdown",
   "id": "267c1971",
   "metadata": {},
   "source": [
    "We now evaluate whether human evaluations roughly correspond to the scores whe have received from the leakage-adjusted simulatablility model.\n",
    "\n",
    "For this, we first examine the pearson correlation coefficient between the normalized annotations and the LAS score, the simulator correctness based on input and explanation, the simulator correctness based on the explanation only and the simulator correctness based on the input only."
   ]
  },
  {
   "cell_type": "code",
   "execution_count": 984,
   "id": "b2f96cd7",
   "metadata": {},
   "outputs": [
    {
     "name": "stdout",
     "output_type": "stream",
     "text": [
      "corrcoeff (annotation, LAS_score): -0.0053  p: 0.9265\n",
      "corrcoeff (annotation, XE_correct): 0.0947  p: 0.1015\n",
      "corrcoeff (annotation, E_correct): 0.0511  p: 0.3774\n",
      "corrcoeff (annotation, X_correct): 0.0815  p: 0.1592\n"
     ]
    }
   ],
   "source": [
    "c_LAS = pearsonr(data['normalized_annotation'].to_numpy(), data['LAS_score'].to_numpy())\n",
    "c_XE = pearsonr(data['normalized_annotation'].to_numpy(), data['XE_correct'].to_numpy())\n",
    "c_E = pearsonr(data['normalized_annotation'].to_numpy(), data['E_correct'].to_numpy())\n",
    "c_X = pearsonr(data['normalized_annotation'].to_numpy(), data['X_correct'].to_numpy())\n",
    "\n",
    "print(f\"corrcoeff (annotation, LAS_score): {c_LAS[0]:0.4f}  p: {c_LAS[1]:0.4f}\")\n",
    "print(f\"corrcoeff (annotation, XE_correct): {c_XE[0]:0.4f}  p: {c_XE[1]:0.4f}\")\n",
    "print(f\"corrcoeff (annotation, E_correct): {c_E[0]:0.4f}  p: {c_E[1]:0.4f}\")\n",
    "print(f\"corrcoeff (annotation, X_correct): {c_X[0]:0.4f}  p: {c_X[1]:0.4f}\")"
   ]
  },
  {
   "cell_type": "markdown",
   "id": "1d7ba916",
   "metadata": {},
   "source": [
    "It appears that the correlation is only minor, paired with high probabilities to observe that data under the null hypothesis of no correlation. We therefore replicate one of the analyses from the [LAS Paper](https://arxiv.org/abs/2010.04119) given in Table 6. "
   ]
  },
  {
   "cell_type": "code",
   "execution_count": 985,
   "id": "05364072",
   "metadata": {},
   "outputs": [
    {
     "name": "stdout",
     "output_type": "stream",
     "text": [
      "           normalized_annotation          \n",
      "                            mean       std\n",
      "XE_correct                                \n",
      "False                   2.412470  1.404373\n",
      "True                    2.765099  1.507151\n",
      "          normalized_annotation          \n",
      "                           mean       std\n",
      "X_correct                                \n",
      "False                  2.578005  1.477083\n",
      "True                   2.820855  1.502051\n",
      "          normalized_annotation          \n",
      "                           mean       std\n",
      "E_correct                                \n",
      "False                  2.608655  1.452351\n",
      "True                   2.762081  1.522605\n"
     ]
    }
   ],
   "source": [
    "print(data.groupby(['XE_correct']).agg({'normalized_annotation':['mean', 'std']}))\n",
    "print(data.groupby(['X_correct']).agg({'normalized_annotation':['mean', 'std']}))\n",
    "print(data.groupby(['E_correct']).agg({'normalized_annotation':['mean', 'std']}))"
   ]
  },
  {
   "cell_type": "code",
   "execution_count": 986,
   "id": "8b3a0007",
   "metadata": {},
   "outputs": [
    {
     "name": "stdout",
     "output_type": "stream",
     "text": [
      "LinregressResult(slope=0.352628969507008, intercept=2.4124701534146626, rvalue=0.09472298701424281, pvalue=0.1015292079173724, stderr=0.2146828422390695)\n",
      "\n",
      "LinregressResult(slope=0.24285017655924498, intercept=2.5780052442718313, rvalue=0.0814775796443099, pvalue=0.15922493293400716, stderr=0.17208610823295536)\n",
      "\n",
      "LinregressResult(slope=0.1534258090765738, intercept=2.6086548759373875, rvalue=0.05114417521980431, pvalue=0.3773860433011088, stderr=0.1735503000377465)\n"
     ]
    }
   ],
   "source": [
    "print(linregress(data['XE_correct'].to_numpy(), data['normalized_annotation'].to_numpy()))\n",
    "print()\n",
    "print(linregress(data['X_correct'].to_numpy(), data['normalized_annotation'].to_numpy()))\n",
    "print()\n",
    "print(linregress(data['E_correct'].to_numpy(), data['normalized_annotation'].to_numpy()))"
   ]
  },
  {
   "cell_type": "markdown",
   "id": "95bbf460",
   "metadata": {},
   "source": [
    "We see that in principle the observations are comparable: there appear to be similar effects between the simulator accuracies and the annotations as reported in Table 5 of the LAS paper.\n",
    "\n",
    "However, the magnitude of the coefficients when predicting the annotations from the accuracy of the simulators is different. While the authors of the LAS paper observe the highest coefficient for predicting annotations from simulator accuracy based on the explanation, we observe the highest coefficient when predicting from both input and explanation. At the same time, however, our $p$-values do not support definite conclusions, which again could be due to the very small number of annotations that are at our disposal."
   ]
  },
  {
   "cell_type": "markdown",
   "id": "76f938cd",
   "metadata": {},
   "source": [
    "# Conclusion"
   ]
  },
  {
   "cell_type": "markdown",
   "id": "0a4f6f26",
   "metadata": {},
   "source": [
    "The analyses have shown trends in the model behavior of which we believe some to be systematic, such as the better performance on producing positive rationales over negative rationales and the model being faithful to (a subset of) its predictions. However, the very small number of annotations paired with the in hindsight insufficient information we have received from the annotators about the qualities of a shown sample keep us short of making any definite conclusions. \n",
    "\n",
    "As most of the observations made here are either not robust enough or irrelevant towards our original research question, we decided to exclude them from our project report in order to keep the focus on results we can draw actual conclusions from.\n",
    "\n",
    "For future work, we should re-design the setup of the Mechanical Turk survey to obtain more reliable data."
   ]
  },
  {
   "cell_type": "code",
   "execution_count": null,
   "id": "7fe1a935",
   "metadata": {},
   "outputs": [],
   "source": []
  }
 ],
 "metadata": {
  "kernelspec": {
   "display_name": "Python (cdm)",
   "language": "python",
   "name": "cdm"
  },
  "language_info": {
   "codemirror_mode": {
    "name": "ipython",
    "version": 3
   },
   "file_extension": ".py",
   "mimetype": "text/x-python",
   "name": "python",
   "nbconvert_exporter": "python",
   "pygments_lexer": "ipython3",
   "version": "3.7.10"
  }
 },
 "nbformat": 4,
 "nbformat_minor": 5
}
